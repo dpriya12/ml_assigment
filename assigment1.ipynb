{
  "nbformat": 4,
  "nbformat_minor": 0,
  "metadata": {
    "colab": {
      "provenance": [],
      "authorship_tag": "ABX9TyOwVI5O/w/HUzAsttqjdHUk",
      "include_colab_link": true
    },
    "kernelspec": {
      "name": "python3",
      "display_name": "Python 3"
    },
    "language_info": {
      "name": "python"
    }
  },
  "cells": [
    {
      "cell_type": "markdown",
      "metadata": {
        "id": "view-in-github",
        "colab_type": "text"
      },
      "source": [
        "<a href=\"https://colab.research.google.com/github/dpriya12/ml_assigment/blob/main/assigment1.ipynb\" target=\"_parent\"><img src=\"https://colab.research.google.com/assets/colab-badge.svg\" alt=\"Open In Colab\"/></a>"
      ]
    },
    {
      "cell_type": "code",
      "execution_count": 1,
      "metadata": {
        "colab": {
          "base_uri": "https://localhost:8080/"
        },
        "id": "t1JK8jBQFbsZ",
        "outputId": "0d7a9b1e-f740-460c-bab5-70be10d9d3bc"
      },
      "outputs": [
        {
          "output_type": "stream",
          "name": "stdout",
          "text": [
            "    Year_bought\n",
            "0          1995\n",
            "1          1990\n",
            "2          2022\n",
            "3          2021\n",
            "4          2005\n",
            "5          2008\n",
            "6          2009\n",
            "7          2010\n",
            "8          2012\n",
            "9          2015\n",
            "10         2016\n",
            "11         2022\n"
          ]
        }
      ],
      "source": [
        "import numpy as np\n",
        "import pandas as pd\n",
        "\n",
        "df=pd.read_csv('/content/Used_Car_Data (2).csv')\n",
        "print(df)"
      ]
    },
    {
      "cell_type": "code",
      "source": [
        "df=df.assign(age_of_vechile=None)\n",
        "df=df.assign(Price_after_depreciation=None)\n",
        "df=df.assign(Conclusion=None)\n",
        "\n",
        "print(df)\n",
        "cur_year=2023\n",
        "showroom_price=1000000"
      ],
      "metadata": {
        "colab": {
          "base_uri": "https://localhost:8080/"
        },
        "id": "7MjTmjh0P583",
        "outputId": "bb241cd3-97b9-48eb-b684-1c33e6974417"
      },
      "execution_count": 2,
      "outputs": [
        {
          "output_type": "stream",
          "name": "stdout",
          "text": [
            "    Year_bought age_of_vechile Price_after_depreciation Conclusion\n",
            "0          1995           None                     None       None\n",
            "1          1990           None                     None       None\n",
            "2          2022           None                     None       None\n",
            "3          2021           None                     None       None\n",
            "4          2005           None                     None       None\n",
            "5          2008           None                     None       None\n",
            "6          2009           None                     None       None\n",
            "7          2010           None                     None       None\n",
            "8          2012           None                     None       None\n",
            "9          2015           None                     None       None\n",
            "10         2016           None                     None       None\n",
            "11         2022           None                     None       None\n"
          ]
        }
      ]
    },
    {
      "cell_type": "markdown",
      "source": [
        "current age"
      ],
      "metadata": {
        "id": "gyQQ59_FQrFP"
      }
    },
    {
      "cell_type": "code",
      "source": [
        "for index,value in df['Year_bought'].iteritems():\n",
        "  age=cur_year-value\n",
        "  df.at[index,\"age_of_vechile\"]=age\n",
        "print(df)"
      ],
      "metadata": {
        "colab": {
          "base_uri": "https://localhost:8080/"
        },
        "id": "ou6RnAmVQpa0",
        "outputId": "c46ad428-93c4-4256-9dc1-1c529a11ba8d"
      },
      "execution_count": 3,
      "outputs": [
        {
          "output_type": "stream",
          "name": "stdout",
          "text": [
            "    Year_bought age_of_vechile Price_after_depreciation Conclusion\n",
            "0          1995             28                     None       None\n",
            "1          1990             33                     None       None\n",
            "2          2022              1                     None       None\n",
            "3          2021              2                     None       None\n",
            "4          2005             18                     None       None\n",
            "5          2008             15                     None       None\n",
            "6          2009             14                     None       None\n",
            "7          2010             13                     None       None\n",
            "8          2012             11                     None       None\n",
            "9          2015              8                     None       None\n",
            "10         2016              7                     None       None\n",
            "11         2022              1                     None       None\n"
          ]
        }
      ]
    },
    {
      "cell_type": "markdown",
      "source": [
        "price after decipation"
      ],
      "metadata": {
        "id": "wsa2CPu1RMEa"
      }
    },
    {
      "cell_type": "code",
      "source": [
        "for index,value in df['age_of_vechile'].iteritems():\n",
        "  p_a_d=showroom_price/value\n",
        "  df.at[index,\"Price_after_depreciation\"]=p_a_d\n",
        "print(df)  "
      ],
      "metadata": {
        "colab": {
          "base_uri": "https://localhost:8080/"
        },
        "id": "Lt0vLgFxRJh3",
        "outputId": "ee67ce8a-37f3-41cf-cd7a-68cd1ba4d80b"
      },
      "execution_count": 4,
      "outputs": [
        {
          "output_type": "stream",
          "name": "stdout",
          "text": [
            "    Year_bought age_of_vechile Price_after_depreciation Conclusion\n",
            "0          1995             28             35714.285714       None\n",
            "1          1990             33             30303.030303       None\n",
            "2          2022              1                1000000.0       None\n",
            "3          2021              2                 500000.0       None\n",
            "4          2005             18             55555.555556       None\n",
            "5          2008             15             66666.666667       None\n",
            "6          2009             14             71428.571429       None\n",
            "7          2010             13             76923.076923       None\n",
            "8          2012             11             90909.090909       None\n",
            "9          2015              8                 125000.0       None\n",
            "10         2016              7            142857.142857       None\n",
            "11         2022              1                1000000.0       None\n"
          ]
        }
      ]
    },
    {
      "cell_type": "markdown",
      "source": [
        "conclusion"
      ],
      "metadata": {
        "id": "nt9JvmYgRvWI"
      }
    },
    {
      "cell_type": "code",
      "source": [
        "for index,value in df['Price_after_depreciation'].iteritems():\n",
        "  if value<500000:\n",
        "    df.at[index,\" Conclusion\"]=\"scrap\"\n",
        "  else:\n",
        "    df.at[index,\"conclusion\"]=\"auction\"\n",
        "print(df)    "
      ],
      "metadata": {
        "colab": {
          "base_uri": "https://localhost:8080/"
        },
        "id": "tcPPbl2_RtgT",
        "outputId": "830390e0-4ca3-4110-e913-563b578a03b6"
      },
      "execution_count": 5,
      "outputs": [
        {
          "output_type": "stream",
          "name": "stdout",
          "text": [
            "    Year_bought age_of_vechile Price_after_depreciation Conclusion  \\\n",
            "0          1995             28             35714.285714       None   \n",
            "1          1990             33             30303.030303       None   \n",
            "2          2022              1                1000000.0       None   \n",
            "3          2021              2                 500000.0       None   \n",
            "4          2005             18             55555.555556       None   \n",
            "5          2008             15             66666.666667       None   \n",
            "6          2009             14             71428.571429       None   \n",
            "7          2010             13             76923.076923       None   \n",
            "8          2012             11             90909.090909       None   \n",
            "9          2015              8                 125000.0       None   \n",
            "10         2016              7            142857.142857       None   \n",
            "11         2022              1                1000000.0       None   \n",
            "\n",
            "    Conclusion conclusion  \n",
            "0        scrap        NaN  \n",
            "1        scrap        NaN  \n",
            "2          NaN    auction  \n",
            "3          NaN    auction  \n",
            "4        scrap        NaN  \n",
            "5        scrap        NaN  \n",
            "6        scrap        NaN  \n",
            "7        scrap        NaN  \n",
            "8        scrap        NaN  \n",
            "9        scrap        NaN  \n",
            "10       scrap        NaN  \n",
            "11         NaN    auction  \n"
          ]
        }
      ]
    },
    {
      "cell_type": "code",
      "source": [
        "df.to_csv('final_result.csv')"
      ],
      "metadata": {
        "id": "x3Zbc_wBSUUm"
      },
      "execution_count": null,
      "outputs": []
    }
  ]
}